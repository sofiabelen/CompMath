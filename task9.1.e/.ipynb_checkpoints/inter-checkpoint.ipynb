{
 "cells": [
  {
   "cell_type": "code",
   "execution_count": 8,
   "id": "c56968bb-79b6-4df8-a421-a1cf678dae12",
   "metadata": {},
   "outputs": [],
   "source": [
    "import numpy as np"
   ]
  },
  {
   "cell_type": "code",
   "execution_count": 28,
   "id": "559afdda-9b8c-4018-942d-6953b1cc7bc6",
   "metadata": {},
   "outputs": [],
   "source": [
    "data = np.genfromtxt(\"newton.txt\", names=True)\n",
    "x = data['x']\n",
    "f = data['f']"
   ]
  },
  {
   "cell_type": "code",
   "execution_count": 29,
   "id": "53a54dfa-3b45-4b76-88ba-79b7b82bd038",
   "metadata": {},
   "outputs": [
    {
     "data": {
      "text/plain": [
       "array([-2.37777778, -2.02222222])"
      ]
     },
     "execution_count": 29,
     "metadata": {},
     "output_type": "execute_result"
    }
   ],
   "source": [
    "delta1 = np.zeros(len(x) - 1)\n",
    "delta2 = np.zeros(len(x) - 2)\n",
    "\n",
    "for i in range(len(x) - 1):\n",
    "    delta1[i] = (f[i + 1] - f[i]) / (x[i + 1] - x[i])\n",
    "\n",
    "for i in range(len(x) - 2):\n",
    "    delta2[i] = (delta1[i + 1] - delta1[i]) / (x[i + 2] - x[i])\n",
    "    \n",
    "delta3 = (delta2[1] - delta2[0]) / (x[3] - x[0])\n",
    "\n",
    "delta2"
   ]
  },
  {
   "cell_type": "code",
   "execution_count": 30,
   "id": "0fee4a7b-5242-41fa-af6d-6e9a3e721cc3",
   "metadata": {},
   "outputs": [
    {
     "data": {
      "text/plain": [
       "array([-2.07333333, -2.78666667, -3.39333333])"
      ]
     },
     "execution_count": 30,
     "metadata": {},
     "output_type": "execute_result"
    }
   ],
   "source": [
    "delta1"
   ]
  },
  {
   "cell_type": "code",
   "execution_count": 31,
   "id": "3505e4ad-bc98-41c8-8c16-d95e9752ec06",
   "metadata": {},
   "outputs": [],
   "source": [
    "def p(y):\n",
    "    p = x[0]\n",
    "    p += delta1[0] * (f[0] + y)\n",
    "    p += delta2[0] * (f[0] + y) * (f[1] + y) \n",
    "    p += delta3    * (f[0] + y) * (f[1] + y) * (f[2] + y)\n",
    "    return p"
   ]
  },
  {
   "cell_type": "code",
   "execution_count": 32,
   "id": "4ad3e1a9-a007-4dfd-9808-79c279ef8c21",
   "metadata": {},
   "outputs": [
    {
     "data": {
      "text/plain": [
       "-0.47148347160493576"
      ]
     },
     "execution_count": 32,
     "metadata": {},
     "output_type": "execute_result"
    }
   ],
   "source": [
    "p(0)"
   ]
  },
  {
   "cell_type": "code",
   "execution_count": null,
   "id": "8959be9c-78ba-4e76-a3ef-d779babb4f55",
   "metadata": {},
   "outputs": [],
   "source": []
  }
 ],
 "metadata": {
  "kernelspec": {
   "display_name": "Python 3 (ipykernel)",
   "language": "python",
   "name": "python3"
  },
  "language_info": {
   "codemirror_mode": {
    "name": "ipython",
    "version": 3
   },
   "file_extension": ".py",
   "mimetype": "text/x-python",
   "name": "python",
   "nbconvert_exporter": "python",
   "pygments_lexer": "ipython3",
   "version": "3.9.9"
  }
 },
 "nbformat": 4,
 "nbformat_minor": 5
}
