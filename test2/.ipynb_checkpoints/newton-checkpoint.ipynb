{
 "cells": [
  {
   "cell_type": "code",
   "execution_count": 1,
   "id": "c56968bb-79b6-4df8-a421-a1cf678dae12",
   "metadata": {},
   "outputs": [],
   "source": [
    "import numpy as np"
   ]
  },
  {
   "cell_type": "code",
   "execution_count": null,
   "id": "559afdda-9b8c-4018-942d-6953b1cc7bc6",
   "metadata": {},
   "outputs": [],
   "source": [
    "data = np.genfromtxt(\"newton.txt\", names=True)\n",
    "print(data)\n",
    "x = data['x']\n",
    "f = data['f']"
   ]
  },
  {
   "cell_type": "code",
   "execution_count": null,
   "id": "53a54dfa-3b45-4b76-88ba-79b7b82bd038",
   "metadata": {},
   "outputs": [],
   "source": [
    "delta1 = []\n",
    "delta2 = []\n",
    "\n",
    "for i in range(len(x) - 1):\n",
    "    delta1[i] = \n",
    "delta3 ="
   ]
  }
 ],
 "metadata": {
  "kernelspec": {
   "display_name": "Python 3 (ipykernel)",
   "language": "python",
   "name": "python3"
  },
  "language_info": {
   "codemirror_mode": {
    "name": "ipython",
    "version": 3
   },
   "file_extension": ".py",
   "mimetype": "text/x-python",
   "name": "python",
   "nbconvert_exporter": "python",
   "pygments_lexer": "ipython3",
   "version": "3.9.9"
  }
 },
 "nbformat": 4,
 "nbformat_minor": 5
}
